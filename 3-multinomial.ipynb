{
 "cells": [
  {
   "cell_type": "markdown",
   "id": "random-biography",
   "metadata": {},
   "source": [
    "# LAB 5: Text classification with Naive Bayes\n",
    "\n",
    "## Part 2: Multinomial NB Model\n",
    "\n",
    "Objectives:\n",
    "\n",
    "* Train and evaluate Naive Bayes text classifiers\n",
    "* Cross-validation\n",
    "* Hyperparameter search"
   ]
  },
  {
   "cell_type": "code",
   "execution_count": 1,
   "id": "heavy-emergency",
   "metadata": {},
   "outputs": [],
   "source": [
    "import numpy as np\n",
    "import pandas as pd\n",
    "from cytoolz import *\n",
    "from tqdm.auto import tqdm\n",
    "\n",
    "tqdm.pandas()"
   ]
  },
  {
   "cell_type": "markdown",
   "id": "cultural-anniversary",
   "metadata": {},
   "source": [
    "### Load and preprocess data"
   ]
  },
  {
   "cell_type": "code",
   "execution_count": 2,
   "id": "periodic-cycle",
   "metadata": {},
   "outputs": [],
   "source": [
    "df = pd.read_parquet(\n",
    "    \"s3://ling583/rcv1-politics.parquet\", storage_options={\"anon\": True}\n",
    ")"
   ]
  },
  {
   "cell_type": "code",
   "execution_count": 3,
   "id": "equivalent-mozambique",
   "metadata": {},
   "outputs": [],
   "source": [
    "import spacy\n",
    "\n",
    "nlp = spacy.load(\n",
    "    \"en_core_web_sm\",\n",
    "    exclude=[\"tagger\", \"parser\", \"ner\", \"lemmatizer\", \"attribute_ruler\"],\n",
    ")"
   ]
  },
  {
   "cell_type": "code",
   "execution_count": 4,
   "id": "municipal-oracle",
   "metadata": {},
   "outputs": [],
   "source": [
    "def tokenize(text):\n",
    "    doc = nlp.tokenizer(text)\n",
    "    return [t.norm_ for t in doc if t.is_alpha]"
   ]
  },
  {
   "cell_type": "code",
   "execution_count": 5,
   "id": "entertaining-collect",
   "metadata": {},
   "outputs": [
    {
     "data": {
      "application/vnd.jupyter.widget-view+json": {
       "model_id": "6a6fbae7ea6643858c0b511b597f65f1",
       "version_major": 2,
       "version_minor": 0
      },
      "text/plain": [
       "  0%|          | 0/60509 [00:00<?, ?it/s]"
      ]
     },
     "metadata": {},
     "output_type": "display_data"
    }
   ],
   "source": [
    "df[\"tokens\"] = df[\"text\"].progress_apply(tokenize)"
   ]
  },
  {
   "cell_type": "markdown",
   "id": "chubby-aquatic",
   "metadata": {},
   "source": [
    "----\n",
    "\n",
    "### Multinomial Naive Bayes"
   ]
  },
  {
   "cell_type": "code",
   "execution_count": 6,
   "id": "applicable-potter",
   "metadata": {},
   "outputs": [],
   "source": [
    "from sklearn.feature_extraction.text import CountVectorizer\n",
    "from sklearn.naive_bayes import MultinomialNB\n",
    "from sklearn.pipeline import make_pipeline\n",
    "from sklearn.metrics import classification_report, f1_score\n",
    "from sklearn.model_selection import StratifiedKFold, cross_val_predict, cross_val_score"
   ]
  },
  {
   "cell_type": "code",
   "execution_count": 7,
   "id": "developmental-substitute",
   "metadata": {},
   "outputs": [],
   "source": [
    "cv = StratifiedKFold(n_splits=5, shuffle=True, random_state=5432)"
   ]
  },
  {
   "cell_type": "markdown",
   "id": "capital-playback",
   "metadata": {},
   "source": [
    "Set up a pipeline: first convert tokenized text into feature vectors, then apply naive Bayes classifier"
   ]
  },
  {
   "cell_type": "code",
   "execution_count": 8,
   "id": "fitting-associate",
   "metadata": {},
   "outputs": [],
   "source": [
    "mnb = make_pipeline(CountVectorizer(analyzer=identity), MultinomialNB())"
   ]
  },
  {
   "cell_type": "code",
   "execution_count": 9,
   "id": "stock-typing",
   "metadata": {},
   "outputs": [
    {
     "name": "stdout",
     "output_type": "stream",
     "text": [
      "              precision    recall  f1-score   support\n",
      "\n",
      "       False       0.99      0.90      0.95     56243\n",
      "        True       0.41      0.92      0.57      4266\n",
      "\n",
      "    accuracy                           0.90     60509\n",
      "   macro avg       0.70      0.91      0.76     60509\n",
      "weighted avg       0.95      0.90      0.92     60509\n",
      "\n"
     ]
    }
   ],
   "source": [
    "predicted = cross_val_predict(mnb, df[\"tokens\"], df[\"pol\"], cv=cv, n_jobs=-1)\n",
    "print(classification_report(df[\"pol\"], predicted))"
   ]
  },
  {
   "cell_type": "markdown",
   "id": "round-dealing",
   "metadata": {},
   "source": [
    "---\n",
    "\n",
    "### Hyperparameter search"
   ]
  },
  {
   "cell_type": "code",
   "execution_count": 10,
   "id": "signal-header",
   "metadata": {},
   "outputs": [
    {
     "data": {
      "text/html": [
       "<table style=\"border: 2px solid white;\">\n",
       "<tr>\n",
       "<td style=\"vertical-align: top; border: 0px solid white\">\n",
       "<h3 style=\"text-align: left;\">Client</h3>\n",
       "<ul style=\"text-align: left; list-style: none; margin: 0; padding: 0;\">\n",
       "  <li><b>Scheduler: </b>tcp://127.0.0.1:38985</li>\n",
       "  <li><b>Dashboard: </b><a href='http://127.0.0.1:38309/status' target='_blank'>http://127.0.0.1:38309/status</a></li>\n",
       "</ul>\n",
       "</td>\n",
       "<td style=\"vertical-align: top; border: 0px solid white\">\n",
       "<h3 style=\"text-align: left;\">Cluster</h3>\n",
       "<ul style=\"text-align: left; list-style:none; margin: 0; padding: 0;\">\n",
       "  <li><b>Workers: </b>4</li>\n",
       "  <li><b>Cores: </b>4</li>\n",
       "  <li><b>Memory: </b>16.67 GB</li>\n",
       "</ul>\n",
       "</td>\n",
       "</tr>\n",
       "</table>"
      ],
      "text/plain": [
       "<Client: 'tcp://127.0.0.1:38985' processes=4 threads=4, memory=16.67 GB>"
      ]
     },
     "execution_count": 10,
     "metadata": {},
     "output_type": "execute_result"
    }
   ],
   "source": [
    "from dask.distributed import Client\n",
    "\n",
    "client = Client(\"tcp://127.0.0.1:38985\")\n",
    "client"
   ]
  },
  {
   "cell_type": "code",
   "execution_count": 11,
   "id": "pleased-animal",
   "metadata": {},
   "outputs": [],
   "source": [
    "from dask_ml.model_selection import RandomizedSearchCV\n",
    "from scipy.stats.distributions import loguniform, randint, uniform"
   ]
  },
  {
   "cell_type": "code",
   "execution_count": 12,
   "id": "operating-board",
   "metadata": {},
   "outputs": [],
   "source": [
    "# Use this to avoid all the warnings\n",
    "from warnings import simplefilter\n",
    "simplefilter(action=\"ignore\", category=FutureWarning)"
   ]
  },
  {
   "cell_type": "code",
   "execution_count": 13,
   "id": "accessible-competition",
   "metadata": {},
   "outputs": [],
   "source": [
    "mnb = make_pipeline(CountVectorizer(analyzer=identity), MultinomialNB())"
   ]
  },
  {
   "cell_type": "markdown",
   "id": "animal-being",
   "metadata": {},
   "source": [
    "Setup a search to try out a classfier for lots of different parameter values: alpha parameter and optimize f1 score"
   ]
  },
  {
   "cell_type": "code",
   "execution_count": 14,
   "id": "constitutional-column",
   "metadata": {},
   "outputs": [
    {
     "name": "stdout",
     "output_type": "stream",
     "text": [
      "CPU times: user 17.2 s, sys: 1.92 s, total: 19.1 s\n",
      "Wall time: 2min 2s\n"
     ]
    },
    {
     "data": {
      "text/plain": [
       "RandomizedSearchCV(estimator=Pipeline(steps=[('countvectorizer',\n",
       "                                              CountVectorizer(analyzer=<cyfunction identity at 0x7fa8e40202b0>)),\n",
       "                                             ('multinomialnb',\n",
       "                                              MultinomialNB())]),\n",
       "                   n_iter=25,\n",
       "                   param_distributions={'multinomialnb__alpha': <scipy.stats._distn_infrastructure.rv_frozen object at 0x7fa80154a970>},\n",
       "                   scoring='f1')"
      ]
     },
     "execution_count": 14,
     "metadata": {},
     "output_type": "execute_result"
    }
   ],
   "source": [
    "%%time\n",
    "\n",
    "search = RandomizedSearchCV(\n",
    "    mnb, {\"multinomialnb__alpha\": loguniform(1e-10, 20.0)}, n_iter=25, scoring=\"f1\"\n",
    ")\n",
    "search.fit(df[\"tokens\"], df[\"pol\"])  #tokenized data as input, and politics as the labels"
   ]
  },
  {
   "cell_type": "code",
   "execution_count": 15,
   "id": "banner-horror",
   "metadata": {},
   "outputs": [
    {
     "data": {
      "text/plain": [
       "{'multinomialnb__alpha': 5.598768110825555}"
      ]
     },
     "execution_count": 15,
     "metadata": {},
     "output_type": "execute_result"
    }
   ],
   "source": [
    "search.best_params_"
   ]
  },
  {
   "cell_type": "code",
   "execution_count": 16,
   "id": "instant-student",
   "metadata": {},
   "outputs": [
    {
     "data": {
      "text/plain": [
       "0.6661710738227712"
      ]
     },
     "execution_count": 16,
     "metadata": {},
     "output_type": "execute_result"
    }
   ],
   "source": [
    "search.best_score_"
   ]
  },
  {
   "cell_type": "code",
   "execution_count": 17,
   "id": "desperate-floating",
   "metadata": {},
   "outputs": [],
   "source": [
    "cv_results = pd.DataFrame(search.cv_results_)"
   ]
  },
  {
   "cell_type": "code",
   "execution_count": 18,
   "id": "romance-marketing",
   "metadata": {},
   "outputs": [
    {
     "data": {
      "text/html": [
       "<div>\n",
       "<style scoped>\n",
       "    .dataframe tbody tr th:only-of-type {\n",
       "        vertical-align: middle;\n",
       "    }\n",
       "\n",
       "    .dataframe tbody tr th {\n",
       "        vertical-align: top;\n",
       "    }\n",
       "\n",
       "    .dataframe thead th {\n",
       "        text-align: right;\n",
       "    }\n",
       "</style>\n",
       "<table border=\"1\" class=\"dataframe\">\n",
       "  <thead>\n",
       "    <tr style=\"text-align: right;\">\n",
       "      <th></th>\n",
       "      <th>params</th>\n",
       "      <th>mean_fit_time</th>\n",
       "      <th>std_fit_time</th>\n",
       "      <th>mean_score_time</th>\n",
       "      <th>std_score_time</th>\n",
       "      <th>split0_test_score</th>\n",
       "      <th>split1_test_score</th>\n",
       "      <th>split2_test_score</th>\n",
       "      <th>mean_test_score</th>\n",
       "      <th>std_test_score</th>\n",
       "      <th>rank_test_score</th>\n",
       "      <th>param_multinomialnb__alpha</th>\n",
       "    </tr>\n",
       "  </thead>\n",
       "  <tbody>\n",
       "    <tr>\n",
       "      <th>0</th>\n",
       "      <td>{'multinomialnb__alpha': 1.3918000293637326e-07}</td>\n",
       "      <td>11.515032</td>\n",
       "      <td>6.931090</td>\n",
       "      <td>3.605866</td>\n",
       "      <td>0.206027</td>\n",
       "      <td>0.644269</td>\n",
       "      <td>0.646414</td>\n",
       "      <td>0.639311</td>\n",
       "      <td>0.643331</td>\n",
       "      <td>0.002974</td>\n",
       "      <td>3</td>\n",
       "      <td>0.0</td>\n",
       "    </tr>\n",
       "    <tr>\n",
       "      <th>1</th>\n",
       "      <td>{'multinomialnb__alpha': 7.695733477242673e-08}</td>\n",
       "      <td>11.518384</td>\n",
       "      <td>6.926312</td>\n",
       "      <td>3.721981</td>\n",
       "      <td>0.410970</td>\n",
       "      <td>0.647727</td>\n",
       "      <td>0.644741</td>\n",
       "      <td>0.638937</td>\n",
       "      <td>0.643802</td>\n",
       "      <td>0.003649</td>\n",
       "      <td>2</td>\n",
       "      <td>0.0</td>\n",
       "    </tr>\n",
       "    <tr>\n",
       "      <th>2</th>\n",
       "      <td>{'multinomialnb__alpha': 1.2697466586096125e-10}</td>\n",
       "      <td>11.533264</td>\n",
       "      <td>6.905241</td>\n",
       "      <td>3.302913</td>\n",
       "      <td>0.080405</td>\n",
       "      <td>0.635115</td>\n",
       "      <td>0.644324</td>\n",
       "      <td>0.630864</td>\n",
       "      <td>0.636768</td>\n",
       "      <td>0.005618</td>\n",
       "      <td>14</td>\n",
       "      <td>0.0</td>\n",
       "    </tr>\n",
       "    <tr>\n",
       "      <th>3</th>\n",
       "      <td>{'multinomialnb__alpha': 0.001392599145825861}</td>\n",
       "      <td>11.533927</td>\n",
       "      <td>6.915241</td>\n",
       "      <td>3.532727</td>\n",
       "      <td>0.132013</td>\n",
       "      <td>0.617910</td>\n",
       "      <td>0.609902</td>\n",
       "      <td>0.616025</td>\n",
       "      <td>0.614612</td>\n",
       "      <td>0.003418</td>\n",
       "      <td>18</td>\n",
       "      <td>0.001393</td>\n",
       "    </tr>\n",
       "    <tr>\n",
       "      <th>4</th>\n",
       "      <td>{'multinomialnb__alpha': 1.9396287645262876e-06}</td>\n",
       "      <td>11.512493</td>\n",
       "      <td>6.931856</td>\n",
       "      <td>3.120781</td>\n",
       "      <td>0.164102</td>\n",
       "      <td>0.642312</td>\n",
       "      <td>0.640259</td>\n",
       "      <td>0.633647</td>\n",
       "      <td>0.638739</td>\n",
       "      <td>0.003697</td>\n",
       "      <td>11</td>\n",
       "      <td>0.000002</td>\n",
       "    </tr>\n",
       "  </tbody>\n",
       "</table>\n",
       "</div>"
      ],
      "text/plain": [
       "                                             params  mean_fit_time  \\\n",
       "0  {'multinomialnb__alpha': 1.3918000293637326e-07}      11.515032   \n",
       "1   {'multinomialnb__alpha': 7.695733477242673e-08}      11.518384   \n",
       "2  {'multinomialnb__alpha': 1.2697466586096125e-10}      11.533264   \n",
       "3    {'multinomialnb__alpha': 0.001392599145825861}      11.533927   \n",
       "4  {'multinomialnb__alpha': 1.9396287645262876e-06}      11.512493   \n",
       "\n",
       "   std_fit_time  mean_score_time  std_score_time  split0_test_score  \\\n",
       "0      6.931090         3.605866        0.206027           0.644269   \n",
       "1      6.926312         3.721981        0.410970           0.647727   \n",
       "2      6.905241         3.302913        0.080405           0.635115   \n",
       "3      6.915241         3.532727        0.132013           0.617910   \n",
       "4      6.931856         3.120781        0.164102           0.642312   \n",
       "\n",
       "   split1_test_score  split2_test_score  mean_test_score  std_test_score  \\\n",
       "0           0.646414           0.639311         0.643331        0.002974   \n",
       "1           0.644741           0.638937         0.643802        0.003649   \n",
       "2           0.644324           0.630864         0.636768        0.005618   \n",
       "3           0.609902           0.616025         0.614612        0.003418   \n",
       "4           0.640259           0.633647         0.638739        0.003697   \n",
       "\n",
       "   rank_test_score param_multinomialnb__alpha  \n",
       "0                3                        0.0  \n",
       "1                2                        0.0  \n",
       "2               14                        0.0  \n",
       "3               18                   0.001393  \n",
       "4               11                   0.000002  "
      ]
     },
     "execution_count": 18,
     "metadata": {},
     "output_type": "execute_result"
    }
   ],
   "source": [
    "cv_results.head()"
   ]
  },
  {
   "cell_type": "code",
   "execution_count": 19,
   "id": "clean-south",
   "metadata": {},
   "outputs": [
    {
     "data": {
      "text/plain": [
       "<AxesSubplot:xlabel='param_multinomialnb__alpha', ylabel='mean_test_score'>"
      ]
     },
     "execution_count": 19,
     "metadata": {},
     "output_type": "execute_result"
    },
    {
     "data": {
      "image/png": "[encoded data removed]",
      "text/plain": [
       "<Figure size 432x288 with 1 Axes>"
      ]
     },
     "metadata": {
      "needs_background": "light"
     },
     "output_type": "display_data"
    }
   ],
   "source": [
    "cv_results.plot(\n",
    "    \"param_multinomialnb__alpha\", \"mean_test_score\", kind=\"scatter\", logx=True\n",
    ")"
   ]
  },
  {
   "cell_type": "markdown",
   "id": "occasional-limitation",
   "metadata": {},
   "source": [
    "We can see that as alpha gets bigger, the results get worse.  However, we do have 1 value with a high mean test score near value 10.\n",
    "\n",
    "Now, we exclude words that are very frequent and infrequent.  We will experiment with the threshold levels."
   ]
  },
  {
   "cell_type": "code",
   "execution_count": 20,
   "id": "supported-arnold",
   "metadata": {},
   "outputs": [
    {
     "name": "stdout",
     "output_type": "stream",
     "text": [
      "CPU times: user 17.6 s, sys: 1.98 s, total: 19.5 s\n",
      "Wall time: 1min 21s\n"
     ]
    },
    {
     "data": {
      "text/plain": [
       "RandomizedSearchCV(estimator=Pipeline(steps=[('countvectorizer',\n",
       "                                              CountVectorizer(analyzer=<cyfunction identity at 0x7fa8e40202b0>)),\n",
       "                                             ('multinomialnb',\n",
       "                                              MultinomialNB())]),\n",
       "                   n_iter=25,\n",
       "                   param_distributions={'countvectorizer__min_df': <scipy.stats._distn_infrastructure.rv_frozen object at 0x7fa7ffa0df70>,\n",
       "                                        'multinomialnb__alpha': [10]},\n",
       "                   scoring='f1')"
      ]
     },
     "execution_count": 20,
     "metadata": {},
     "output_type": "execute_result"
    }
   ],
   "source": [
    "%%time\n",
    "\n",
    "search = RandomizedSearchCV(\n",
    "    mnb,\n",
    "    {\n",
    "        \"countvectorizer__min_df\": randint(1, 5),  # we will try 1, 2, 3, 4\n",
    "        \"multinomialnb__alpha\": [10],\n",
    "    },\n",
    "    n_iter=25,\n",
    "    scoring=\"f1\",\n",
    ")\n",
    "search.fit(df[\"tokens\"], df[\"pol\"])"
   ]
  },
  {
   "cell_type": "code",
   "execution_count": 21,
   "id": "statistical-henry",
   "metadata": {},
   "outputs": [
    {
     "data": {
      "text/plain": [
       "({'countvectorizer__min_df': 2, 'multinomialnb__alpha': 10},\n",
       " 0.6524719576762755)"
      ]
     },
     "execution_count": 21,
     "metadata": {},
     "output_type": "execute_result"
    }
   ],
   "source": [
    "search.best_params_, search.best_score_"
   ]
  },
  {
   "cell_type": "code",
   "execution_count": 22,
   "id": "guilty-twenty",
   "metadata": {},
   "outputs": [],
   "source": [
    "cv_results = pd.DataFrame(search.cv_results_)"
   ]
  },
  {
   "cell_type": "code",
   "execution_count": 23,
   "id": "featured-jersey",
   "metadata": {},
   "outputs": [
    {
     "data": {
      "text/plain": [
       "<AxesSubplot:xlabel='param_countvectorizer__min_df', ylabel='mean_test_score'>"
      ]
     },
     "execution_count": 23,
     "metadata": {},
     "output_type": "execute_result"
    },
    {
     "data": {
      "image/png": "[encoded data removed]",
      "text/plain": [
       "<Figure size 432x288 with 1 Axes>"
      ]
     },
     "metadata": {
      "needs_background": "light"
     },
     "output_type": "display_data"
    }
   ],
   "source": [
    "cv_results.plot(\"param_countvectorizer__min_df\", \"mean_test_score\", kind=\"scatter\")"
   ]
  },
  {
   "cell_type": "markdown",
   "id": "polished-trade",
   "metadata": {},
   "source": [
    "Optimal min_df value is at 2.0"
   ]
  },
  {
   "cell_type": "code",
   "execution_count": 24,
   "id": "explicit-diabetes",
   "metadata": {},
   "outputs": [
    {
     "data": {
      "text/plain": [
       "<AxesSubplot:xlabel='param_multinomialnb__alpha', ylabel='mean_test_score'>"
      ]
     },
     "execution_count": 24,
     "metadata": {},
     "output_type": "execute_result"
    },
    {
     "data": {
      "image/png": "[encoded data removed]",
      "text/plain": [
       "<Figure size 432x288 with 1 Axes>"
      ]
     },
     "metadata": {
      "needs_background": "light"
     },
     "output_type": "display_data"
    }
   ],
   "source": [
    "cv_results.plot(\n",
    "    \"param_multinomialnb__alpha\", \"mean_test_score\", kind=\"scatter\", logx=True\n",
    ")"
   ]
  },
  {
   "cell_type": "markdown",
   "id": "false-thirty",
   "metadata": {},
   "source": [
    "Optimal alpha value is 10."
   ]
  },
  {
   "cell_type": "code",
   "execution_count": 25,
   "id": "private-month",
   "metadata": {},
   "outputs": [
    {
     "data": {
      "text/plain": [
       "<AxesSubplot:xlabel='param_multinomialnb__alpha', ylabel='mean_test_score'>"
      ]
     },
     "execution_count": 25,
     "metadata": {},
     "output_type": "execute_result"
    },
    {
     "data": {
      "image/png": "[encoded data removed]",
      "text/plain": [
       "<Figure size 432x288 with 2 Axes>"
      ]
     },
     "metadata": {
      "needs_background": "light"
     },
     "output_type": "display_data"
    }
   ],
   "source": [
    "cv_results.plot(\n",
    "    \"param_multinomialnb__alpha\",\n",
    "    \"mean_test_score\",\n",
    "    kind=\"scatter\",\n",
    "    logx=True,\n",
    "    c=\"param_countvectorizer__min_df\",\n",
    "    colormap=\"Set1\",\n",
    ")"
   ]
  },
  {
   "cell_type": "markdown",
   "id": "specialized-inflation",
   "metadata": {},
   "source": [
    "Given the graph, the red dot is the most optimal."
   ]
  },
  {
   "cell_type": "markdown",
   "id": "robust-masters",
   "metadata": {},
   "source": [
    "%%time\n",
    "\n",
    "search = RandomizedSearchCV(\n",
    "    mnb,\n",
    "    {\n",
    "        \"countvectorizer__min_df\": [2],\n",
    "        \"countvectorizer__max_df\": uniform(0.5, 0.5), # probably between 0.5 and 1, so we try 0.5 and evaluate. This will give random numbers between 0.5 and 1.\n",
    "        \"multinomialnb__alpha\": [10],\n",
    "    },\n",
    "    n_iter=25,\n",
    "    scoring=\"f1\",\n",
    ")\n",
    "search.fit(df[\"tokens\"], df[\"pol\"])"
   ]
  },
  {
   "cell_type": "code",
   "execution_count": 27,
   "id": "humanitarian-civilization",
   "metadata": {},
   "outputs": [
    {
     "data": {
      "text/plain": [
       "({'countvectorizer__max_df': 0.9496967567248868,\n",
       "  'countvectorizer__min_df': 2,\n",
       "  'multinomialnb__alpha': 10},\n",
       " 0.6524719576762755)"
      ]
     },
     "execution_count": 27,
     "metadata": {},
     "output_type": "execute_result"
    }
   ],
   "source": [
    "search.best_params_, search.best_score_"
   ]
  },
  {
   "cell_type": "code",
   "execution_count": 28,
   "id": "universal-audio",
   "metadata": {},
   "outputs": [
    {
     "data": {
      "text/plain": [
       "<AxesSubplot:xlabel='param_countvectorizer__max_df', ylabel='mean_test_score'>"
      ]
     },
     "execution_count": 28,
     "metadata": {},
     "output_type": "execute_result"
    },
    {
     "data": {
      "image/png": "[encoded data removed]",
      "text/plain": [
       "<Figure size 432x288 with 1 Axes>"
      ]
     },
     "metadata": {
      "needs_background": "light"
     },
     "output_type": "display_data"
    }
   ],
   "source": [
    "cv_results = pd.DataFrame(search.cv_results_)\n",
    "cv_results.plot(\"param_countvectorizer__max_df\", \"mean_test_score\", kind=\"scatter\")"
   ]
  },
  {
   "cell_type": "markdown",
   "id": "floral-design",
   "metadata": {},
   "source": [
    "---\n",
    "\n",
    "### Evaluate final model"
   ]
  },
  {
   "cell_type": "code",
   "execution_count": 29,
   "id": "expressed-variety",
   "metadata": {},
   "outputs": [
    {
     "data": {
      "text/plain": [
       "Pipeline(steps=[('countvectorizer',\n",
       "                 CountVectorizer(analyzer=<cyfunction identity at 0x7fa8e40202b0>,\n",
       "                                 max_df=0.9496967567248868, min_df=2)),\n",
       "                ('multinomialnb', MultinomialNB(alpha=10))])"
      ]
     },
     "execution_count": 29,
     "metadata": {},
     "output_type": "execute_result"
    }
   ],
   "source": [
    "mnb.set_params(\n",
    "    multinomialnb__alpha=10, countvectorizer__min_df=2, countvectorizer__max_df=0.9496967567248868\n",
    ")"
   ]
  },
  {
   "cell_type": "code",
   "execution_count": 30,
   "id": "located-nursing",
   "metadata": {},
   "outputs": [
    {
     "name": "stdout",
     "output_type": "stream",
     "text": [
      "              precision    recall  f1-score   support\n",
      "\n",
      "       False       0.98      0.96      0.97     56243\n",
      "        True       0.58      0.73      0.65      4266\n",
      "\n",
      "    accuracy                           0.94     60509\n",
      "   macro avg       0.78      0.85      0.81     60509\n",
      "weighted avg       0.95      0.94      0.95     60509\n",
      "\n"
     ]
    }
   ],
   "source": [
    "predicted = cross_val_predict(mnb, df[\"tokens\"], df[\"pol\"], cv=cv, n_jobs=-1)\n",
    "print(classification_report(df[\"pol\"], predicted))"
   ]
  },
  {
   "cell_type": "markdown",
   "id": "nominated-crowd",
   "metadata": {},
   "source": [
    "With an alpha value of 10, f1-score improved by 1 point and precision and recall values improved to 0.58 and 0.73.  This is a slightly better model (by 1 point), but precision/recall are much more balanced here."
   ]
  },
  {
   "cell_type": "code",
   "execution_count": null,
   "id": "multiple-steps",
   "metadata": {},
   "outputs": [],
   "source": []
  }
 ],
 "metadata": {
  "kernelspec": {
   "display_name": "Python 3",
   "language": "python",
   "name": "python3"
  },
  "language_info": {
   "codemirror_mode": {
    "name": "ipython",
    "version": 3
   },
   "file_extension": ".py",
   "mimetype": "text/x-python",
   "name": "python",
   "nbconvert_exporter": "python",
   "pygments_lexer": "ipython3",
   "version": "3.8.6"
  }
 },
 "nbformat": 4,
 "nbformat_minor": 5
}
