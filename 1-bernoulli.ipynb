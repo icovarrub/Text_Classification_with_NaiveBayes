{
 "cells": [
  {
   "cell_type": "markdown",
   "id": "august-romantic",
   "metadata": {},
   "source": [
    "# LAB 5: Text classification with Naive Bayes\n",
    "\n",
    "## Part 1: Bernoulli NB Model\n",
    "\n",
    "Objectives:\n",
    "\n",
    "* Train and evaluate Naive Bayes text classifiers\n",
    "* Cross-validation\n",
    "* Hyperparameter search"
   ]
  },
  {
   "cell_type": "code",
   "execution_count": 1,
   "id": "connected-female",
   "metadata": {},
   "outputs": [],
   "source": [
    "import numpy as np\n",
    "import pandas as pd\n",
    "from cytoolz import *\n",
    "from tqdm.auto import tqdm\n",
    "\n",
    "tqdm.pandas()"
   ]
  },
  {
   "cell_type": "markdown",
   "id": "rough-celtic",
   "metadata": {},
   "source": [
    "### Load and preprocess data"
   ]
  },
  {
   "cell_type": "code",
   "execution_count": 24,
   "id": "exterior-forestry",
   "metadata": {},
   "outputs": [],
   "source": [
    "df = pd.read_parquet(\n",
    "    \"s3://ling583/rcv1-politics.parquet\", storage_options={\"anon\": True}\n",
    ")"
   ]
  },
  {
   "cell_type": "code",
   "execution_count": 25,
   "id": "stunning-bangladesh",
   "metadata": {},
   "outputs": [
    {
     "data": {
      "text/html": [
       "<div>\n",
       "<style scoped>\n",
       "    .dataframe tbody tr th:only-of-type {\n",
       "        vertical-align: middle;\n",
       "    }\n",
       "\n",
       "    .dataframe tbody tr th {\n",
       "        vertical-align: top;\n",
       "    }\n",
       "\n",
       "    .dataframe thead th {\n",
       "        text-align: right;\n",
       "    }\n",
       "</style>\n",
       "<table border=\"1\" class=\"dataframe\">\n",
       "  <thead>\n",
       "    <tr style=\"text-align: right;\">\n",
       "      <th></th>\n",
       "      <th>text</th>\n",
       "      <th>pol</th>\n",
       "    </tr>\n",
       "  </thead>\n",
       "  <tbody>\n",
       "    <tr>\n",
       "      <th>0</th>\n",
       "      <td>Aoki Marine -96/97 parent forecast. Year to Ma...</td>\n",
       "      <td>False</td>\n",
       "    </tr>\n",
       "    <tr>\n",
       "      <th>1</th>\n",
       "      <td>PanEnergy Coro unit to redeem debentures. PanE...</td>\n",
       "      <td>False</td>\n",
       "    </tr>\n",
       "    <tr>\n",
       "      <th>2</th>\n",
       "      <td>Juel Verite - 6mth parent results. Six months ...</td>\n",
       "      <td>False</td>\n",
       "    </tr>\n",
       "    <tr>\n",
       "      <th>3</th>\n",
       "      <td>TEXAS TO MEXICO LIVESTOCK EXPORT WEEKLY - USDA...</td>\n",
       "      <td>False</td>\n",
       "    </tr>\n",
       "    <tr>\n",
       "      <th>4</th>\n",
       "      <td>Ex-UK air cargo rates steady to firm on high v...</td>\n",
       "      <td>False</td>\n",
       "    </tr>\n",
       "  </tbody>\n",
       "</table>\n",
       "</div>"
      ],
      "text/plain": [
       "                                                text    pol\n",
       "0  Aoki Marine -96/97 parent forecast. Year to Ma...  False\n",
       "1  PanEnergy Coro unit to redeem debentures. PanE...  False\n",
       "2  Juel Verite - 6mth parent results. Six months ...  False\n",
       "3  TEXAS TO MEXICO LIVESTOCK EXPORT WEEKLY - USDA...  False\n",
       "4  Ex-UK air cargo rates steady to firm on high v...  False"
      ]
     },
     "execution_count": 25,
     "metadata": {},
     "output_type": "execute_result"
    }
   ],
   "source": [
    "df.head()"
   ]
  },
  {
   "cell_type": "markdown",
   "id": "bearing-treat",
   "metadata": {},
   "source": [
    "We need to process this text.  We will tokenize it using spacy."
   ]
  },
  {
   "cell_type": "code",
   "execution_count": 26,
   "id": "agreed-contrary",
   "metadata": {},
   "outputs": [],
   "source": [
    "import spacy\n",
    "\n",
    "nlp = spacy.load(\n",
    "    \"en_core_web_sm\",\n",
    "    exclude=[\"tagger\", \"parser\", \"ner\", \"lemmatizer\", \"attribute_ruler\"],\n",
    ")"
   ]
  },
  {
   "cell_type": "markdown",
   "id": "medical-shaft",
   "metadata": {},
   "source": [
    "Define a tokenizer and pull out the normalized version.  We are stripping out punctuation and numbers, so it will be alphabet only."
   ]
  },
  {
   "cell_type": "markdown",
   "id": "productive-decade",
   "metadata": {},
   "source": [
    "def tokenize(text):\n",
    "    doc = nlp.tokenizer(text)\n",
    "    return [t.norm_ for t in doc if t.is_alpha]"
   ]
  },
  {
   "cell_type": "code",
   "execution_count": 28,
   "id": "registered-sensitivity",
   "metadata": {},
   "outputs": [
    {
     "data": {
      "application/vnd.jupyter.widget-view+json": {
       "model_id": "8689d1c904cf4f24812fe02d54231963",
       "version_major": 2,
       "version_minor": 0
      },
      "text/plain": [
       "  0%|          | 0/60509 [00:00<?, ?it/s]"
      ]
     },
     "metadata": {},
     "output_type": "display_data"
    }
   ],
   "source": [
    "df[\"tokens\"] = df[\"text\"].progress_apply(tokenize)"
   ]
  },
  {
   "cell_type": "code",
   "execution_count": 29,
   "id": "breathing-scheduling",
   "metadata": {},
   "outputs": [
    {
     "data": {
      "text/html": [
       "<div>\n",
       "<style scoped>\n",
       "    .dataframe tbody tr th:only-of-type {\n",
       "        vertical-align: middle;\n",
       "    }\n",
       "\n",
       "    .dataframe tbody tr th {\n",
       "        vertical-align: top;\n",
       "    }\n",
       "\n",
       "    .dataframe thead th {\n",
       "        text-align: right;\n",
       "    }\n",
       "</style>\n",
       "<table border=\"1\" class=\"dataframe\">\n",
       "  <thead>\n",
       "    <tr style=\"text-align: right;\">\n",
       "      <th></th>\n",
       "      <th>text</th>\n",
       "      <th>pol</th>\n",
       "      <th>tokens</th>\n",
       "    </tr>\n",
       "  </thead>\n",
       "  <tbody>\n",
       "    <tr>\n",
       "      <th>0</th>\n",
       "      <td>Aoki Marine -96/97 parent forecast. Year to Ma...</td>\n",
       "      <td>False</td>\n",
       "      <td>[aoki, marine, parent, forecast, year, to, mar...</td>\n",
       "    </tr>\n",
       "    <tr>\n",
       "      <th>1</th>\n",
       "      <td>PanEnergy Coro unit to redeem debentures. PanE...</td>\n",
       "      <td>False</td>\n",
       "      <td>[panenergy, coro, unit, to, redeem, debentures...</td>\n",
       "    </tr>\n",
       "    <tr>\n",
       "      <th>2</th>\n",
       "      <td>Juel Verite - 6mth parent results. Six months ...</td>\n",
       "      <td>False</td>\n",
       "      <td>[juel, verite, parent, results, six, months, t...</td>\n",
       "    </tr>\n",
       "    <tr>\n",
       "      <th>3</th>\n",
       "      <td>TEXAS TO MEXICO LIVESTOCK EXPORT WEEKLY - USDA...</td>\n",
       "      <td>False</td>\n",
       "      <td>[texas, to, mexico, livestock, export, weekly,...</td>\n",
       "    </tr>\n",
       "    <tr>\n",
       "      <th>4</th>\n",
       "      <td>Ex-UK air cargo rates steady to firm on high v...</td>\n",
       "      <td>False</td>\n",
       "      <td>[ex, uk, air, cargo, rates, steady, to, firm, ...</td>\n",
       "    </tr>\n",
       "  </tbody>\n",
       "</table>\n",
       "</div>"
      ],
      "text/plain": [
       "                                                text    pol  \\\n",
       "0  Aoki Marine -96/97 parent forecast. Year to Ma...  False   \n",
       "1  PanEnergy Coro unit to redeem debentures. PanE...  False   \n",
       "2  Juel Verite - 6mth parent results. Six months ...  False   \n",
       "3  TEXAS TO MEXICO LIVESTOCK EXPORT WEEKLY - USDA...  False   \n",
       "4  Ex-UK air cargo rates steady to firm on high v...  False   \n",
       "\n",
       "                                              tokens  \n",
       "0  [aoki, marine, parent, forecast, year, to, mar...  \n",
       "1  [panenergy, coro, unit, to, redeem, debentures...  \n",
       "2  [juel, verite, parent, results, six, months, t...  \n",
       "3  [texas, to, mexico, livestock, export, weekly,...  \n",
       "4  [ex, uk, air, cargo, rates, steady, to, firm, ...  "
      ]
     },
     "execution_count": 29,
     "metadata": {},
     "output_type": "execute_result"
    }
   ],
   "source": [
    "df.head()"
   ]
  },
  {
   "cell_type": "markdown",
   "id": "infectious-enough",
   "metadata": {},
   "source": [
    "Now we have our alphabetic tokens\n",
    "\n",
    "Because most of the documents are not political, let us label the ones that are NOT about politics and evaluate the accuracy."
   ]
  },
  {
   "cell_type": "markdown",
   "id": "maritime-berkeley",
   "metadata": {},
   "source": [
    "---\n",
    "\n",
    "### Baseline dummy classifier"
   ]
  },
  {
   "cell_type": "code",
   "execution_count": 30,
   "id": "forward-asian",
   "metadata": {},
   "outputs": [],
   "source": [
    "from sklearn.dummy import DummyClassifier\n",
    "from sklearn.metrics import classification_report, f1_score\n",
    "from sklearn.model_selection import StratifiedKFold, cross_val_predict, cross_val_score"
   ]
  },
  {
   "cell_type": "markdown",
   "id": "unlikely-organizer",
   "metadata": {},
   "source": [
    "Set up five-fold cross-validation. We'll use the same training/test splits for all our experiments so the results will be easier to compare."
   ]
  },
  {
   "cell_type": "code",
   "execution_count": 31,
   "id": "informational-acoustic",
   "metadata": {},
   "outputs": [],
   "source": [
    "cv = StratifiedKFold(n_splits=5, shuffle=True, random_state=5432)"
   ]
  },
  {
   "cell_type": "code",
   "execution_count": 32,
   "id": "unsigned-colors",
   "metadata": {},
   "outputs": [
    {
     "data": {
      "text/plain": [
       "array([0.92951578, 0.92951578, 0.92951578, 0.92943315, 0.92950996])"
      ]
     },
     "execution_count": 32,
     "metadata": {},
     "output_type": "execute_result"
    }
   ],
   "source": [
    "baseline = DummyClassifier()\n",
    "cross_val_score(baseline, df[\"tokens\"], df[\"pol\"], cv=cv)"
   ]
  },
  {
   "cell_type": "markdown",
   "id": "finnish-process",
   "metadata": {},
   "source": [
    "We are getting about 93% accuracy.  Let's look at the predictions, and use them to compare against the correct answers."
   ]
  },
  {
   "cell_type": "code",
   "execution_count": 33,
   "id": "senior-basic",
   "metadata": {},
   "outputs": [
    {
     "name": "stdout",
     "output_type": "stream",
     "text": [
      "              precision    recall  f1-score   support\n",
      "\n",
      "       False       0.93      1.00      0.96     56243\n",
      "        True       0.00      0.00      0.00      4266\n",
      "\n",
      "    accuracy                           0.93     60509\n",
      "   macro avg       0.46      0.50      0.48     60509\n",
      "weighted avg       0.86      0.93      0.90     60509\n",
      "\n"
     ]
    },
    {
     "name": "stderr",
     "output_type": "stream",
     "text": [
      "/opt/conda/lib/python3.8/site-packages/sklearn/metrics/_classification.py:1245: UndefinedMetricWarning: Precision and F-score are ill-defined and being set to 0.0 in labels with no predicted samples. Use `zero_division` parameter to control this behavior.\n",
      "  _warn_prf(average, modifier, msg_start, len(result))\n",
      "/opt/conda/lib/python3.8/site-packages/sklearn/metrics/_classification.py:1245: UndefinedMetricWarning: Precision and F-score are ill-defined and being set to 0.0 in labels with no predicted samples. Use `zero_division` parameter to control this behavior.\n",
      "  _warn_prf(average, modifier, msg_start, len(result))\n",
      "/opt/conda/lib/python3.8/site-packages/sklearn/metrics/_classification.py:1245: UndefinedMetricWarning: Precision and F-score are ill-defined and being set to 0.0 in labels with no predicted samples. Use `zero_division` parameter to control this behavior.\n",
      "  _warn_prf(average, modifier, msg_start, len(result))\n"
     ]
    }
   ],
   "source": [
    "predicted = cross_val_predict(baseline, df[\"tokens\"], df[\"pol\"], cv=cv)\n",
    "print(classification_report(df[\"pol\"], predicted))"
   ]
  },
  {
   "cell_type": "markdown",
   "id": "threatened-console",
   "metadata": {},
   "source": [
    "If we do nothing, we have a 93% accuracy and 0 f1-score.  Let's try a binary naive bayes model."
   ]
  },
  {
   "cell_type": "markdown",
   "id": "egyptian-hollow",
   "metadata": {},
   "source": [
    "----\n",
    "\n",
    "### Bernoulli Naive Bayes"
   ]
  },
  {
   "cell_type": "code",
   "execution_count": 34,
   "id": "agreed-criterion",
   "metadata": {},
   "outputs": [],
   "source": [
    "from sklearn.feature_extraction.text import CountVectorizer\n",
    "from sklearn.naive_bayes import BernoulliNB\n",
    "from sklearn.pipeline import make_pipeline"
   ]
  },
  {
   "cell_type": "markdown",
   "id": "medium-preliminary",
   "metadata": {},
   "source": [
    "Set up a pipeline (document term matrix): first convert tokenized text into feature vectors, then apply naive Bayes classifier"
   ]
  },
  {
   "cell_type": "code",
   "execution_count": 35,
   "id": "closing-marine",
   "metadata": {},
   "outputs": [],
   "source": [
    "bnb = make_pipeline(CountVectorizer(analyzer=identity), BernoulliNB())"
   ]
  },
  {
   "cell_type": "code",
   "execution_count": 36,
   "id": "figured-spanking",
   "metadata": {},
   "outputs": [
    {
     "name": "stdout",
     "output_type": "stream",
     "text": [
      "              precision    recall  f1-score   support\n",
      "\n",
      "       False       0.98      0.90      0.93     56243\n",
      "        True       0.35      0.73      0.47      4266\n",
      "\n",
      "    accuracy                           0.88     60509\n",
      "   macro avg       0.66      0.81      0.70     60509\n",
      "weighted avg       0.93      0.88      0.90     60509\n",
      "\n"
     ]
    }
   ],
   "source": [
    "predicted = cross_val_predict(bnb, df[\"tokens\"], df[\"pol\"], cv=cv, n_jobs=-1)\n",
    "print(classification_report(df[\"pol\"], predicted))"
   ]
  },
  {
   "cell_type": "markdown",
   "id": "welcome-detroit",
   "metadata": {},
   "source": [
    "Of the articles flagged for politics, 35% were really about politics.  Of the articles that are really about politics, 73% were flagged for politics.  Since f1-score has jumped from 0% to 47%, this is a little better, but at the sacrific of precision and recall.  The 35% is what we were looking for.  Not the best, but we will try to improve on this."
   ]
  },
  {
   "cell_type": "markdown",
   "id": "heated-expense",
   "metadata": {},
   "source": [
    "---\n",
    "\n",
    "### Hyperparameter search\n",
    "\n",
    "We will run experiments on different values of alpha to see how things change/improve."
   ]
  },
  {
   "cell_type": "code",
   "execution_count": 37,
   "id": "loaded-johnson",
   "metadata": {},
   "outputs": [
    {
     "data": {
      "text/html": [
       "<table style=\"border: 2px solid white;\">\n",
       "<tr>\n",
       "<td style=\"vertical-align: top; border: 0px solid white\">\n",
       "<h3 style=\"text-align: left;\">Client</h3>\n",
       "<ul style=\"text-align: left; list-style: none; margin: 0; padding: 0;\">\n",
       "  <li><b>Scheduler: </b>tcp://127.0.0.1:34037</li>\n",
       "  <li><b>Dashboard: </b><a href='http://127.0.0.1:8787/status' target='_blank'>http://127.0.0.1:8787/status</a></li>\n",
       "</ul>\n",
       "</td>\n",
       "<td style=\"vertical-align: top; border: 0px solid white\">\n",
       "<h3 style=\"text-align: left;\">Cluster</h3>\n",
       "<ul style=\"text-align: left; list-style:none; margin: 0; padding: 0;\">\n",
       "  <li><b>Workers: </b>4</li>\n",
       "  <li><b>Cores: </b>4</li>\n",
       "  <li><b>Memory: </b>16.62 GB</li>\n",
       "</ul>\n",
       "</td>\n",
       "</tr>\n",
       "</table>"
      ],
      "text/plain": [
       "<Client: 'tcp://127.0.0.1:34037' processes=4 threads=4, memory=16.62 GB>"
      ]
     },
     "execution_count": 37,
     "metadata": {},
     "output_type": "execute_result"
    }
   ],
   "source": [
    "from dask.distributed import Client\n",
    "\n",
    "client = Client(\"tcp://127.0.0.1:34037\")\n",
    "client"
   ]
  },
  {
   "cell_type": "code",
   "execution_count": 38,
   "id": "minor-municipality",
   "metadata": {},
   "outputs": [],
   "source": [
    "from dask_ml.model_selection import RandomizedSearchCV\n",
    "from scipy.stats.distributions import loguniform, randint, uniform"
   ]
  },
  {
   "cell_type": "code",
   "execution_count": 39,
   "id": "interstate-holmes",
   "metadata": {},
   "outputs": [],
   "source": [
    "# Use this to avoid all the warnings\n",
    "from warnings import simplefilter\n",
    "simplefilter(action=\"ignore\", category=FutureWarning)"
   ]
  },
  {
   "cell_type": "code",
   "execution_count": 40,
   "id": "domestic-twelve",
   "metadata": {},
   "outputs": [],
   "source": [
    "bnb = make_pipeline(CountVectorizer(analyzer=identity), BernoulliNB())"
   ]
  },
  {
   "cell_type": "markdown",
   "id": "banned-enterprise",
   "metadata": {},
   "source": [
    "Setup a search to try out a classfier for lots of different parameter values: alpha parameter and optimize f1 score"
   ]
  },
  {
   "cell_type": "code",
   "execution_count": 41,
   "id": "bound-skiing",
   "metadata": {},
   "outputs": [
    {
     "name": "stdout",
     "output_type": "stream",
     "text": [
      "CPU times: user 20.4 s, sys: 2.66 s, total: 23.1 s\n",
      "Wall time: 1min 52s\n"
     ]
    },
    {
     "data": {
      "text/plain": [
       "RandomizedSearchCV(estimator=Pipeline(steps=[('countvectorizer',\n",
       "                                              CountVectorizer(analyzer=<cyfunction identity at 0x7f05f7cde1e0>)),\n",
       "                                             ('bernoullinb', BernoulliNB())]),\n",
       "                   n_iter=25,\n",
       "                   param_distributions={'bernoullinb__alpha': <scipy.stats._distn_infrastructure.rv_frozen object at 0x7f0549cc1490>},\n",
       "                   scoring='f1')"
      ]
     },
     "execution_count": 41,
     "metadata": {},
     "output_type": "execute_result"
    }
   ],
   "source": [
    "%%time\n",
    "\n",
    "search = RandomizedSearchCV(\n",
    "    bnb, {\"bernoullinb__alpha\": loguniform(1e-10, 10.0)}, n_iter=25, scoring=\"f1\"\n",
    ")\n",
    "search.fit(df[\"tokens\"], df[\"pol\"])  #tokenized data as input, and politics as the labels"
   ]
  },
  {
   "cell_type": "code",
   "execution_count": 42,
   "id": "parallel-tract",
   "metadata": {},
   "outputs": [
    {
     "data": {
      "text/plain": [
       "{'bernoullinb__alpha': 6.021629298309952e-10}"
      ]
     },
     "execution_count": 42,
     "metadata": {},
     "output_type": "execute_result"
    }
   ],
   "source": [
    "search.best_params_"
   ]
  },
  {
   "cell_type": "code",
   "execution_count": 43,
   "id": "received-martin",
   "metadata": {},
   "outputs": [
    {
     "data": {
      "text/plain": [
       "0.5987700545873251"
      ]
     },
     "execution_count": 43,
     "metadata": {},
     "output_type": "execute_result"
    }
   ],
   "source": [
    "search.best_score_"
   ]
  },
  {
   "cell_type": "code",
   "execution_count": 44,
   "id": "front-liability",
   "metadata": {},
   "outputs": [],
   "source": [
    "cv_results = pd.DataFrame(search.cv_results_)"
   ]
  },
  {
   "cell_type": "code",
   "execution_count": 46,
   "id": "emerging-authority",
   "metadata": {},
   "outputs": [
    {
     "data": {
      "text/html": [
       "<div>\n",
       "<style scoped>\n",
       "    .dataframe tbody tr th:only-of-type {\n",
       "        vertical-align: middle;\n",
       "    }\n",
       "\n",
       "    .dataframe tbody tr th {\n",
       "        vertical-align: top;\n",
       "    }\n",
       "\n",
       "    .dataframe thead th {\n",
       "        text-align: right;\n",
       "    }\n",
       "</style>\n",
       "<table border=\"1\" class=\"dataframe\">\n",
       "  <thead>\n",
       "    <tr style=\"text-align: right;\">\n",
       "      <th></th>\n",
       "      <th>params</th>\n",
       "      <th>mean_fit_time</th>\n",
       "      <th>std_fit_time</th>\n",
       "      <th>mean_score_time</th>\n",
       "      <th>std_score_time</th>\n",
       "      <th>split0_test_score</th>\n",
       "      <th>split1_test_score</th>\n",
       "      <th>split2_test_score</th>\n",
       "      <th>mean_test_score</th>\n",
       "      <th>std_test_score</th>\n",
       "      <th>rank_test_score</th>\n",
       "      <th>param_bernoullinb__alpha</th>\n",
       "    </tr>\n",
       "  </thead>\n",
       "  <tbody>\n",
       "    <tr>\n",
       "      <th>0</th>\n",
       "      <td>{'bernoullinb__alpha': 3.864766197836774e-08}</td>\n",
       "      <td>7.796743</td>\n",
       "      <td>3.134331</td>\n",
       "      <td>2.493973</td>\n",
       "      <td>0.280724</td>\n",
       "      <td>0.596074</td>\n",
       "      <td>0.597950</td>\n",
       "      <td>0.587952</td>\n",
       "      <td>0.593992</td>\n",
       "      <td>0.004339</td>\n",
       "      <td>7</td>\n",
       "      <td>0.0</td>\n",
       "    </tr>\n",
       "    <tr>\n",
       "      <th>1</th>\n",
       "      <td>{'bernoullinb__alpha': 1.4834412205782722e-05}</td>\n",
       "      <td>7.795609</td>\n",
       "      <td>3.139391</td>\n",
       "      <td>2.482212</td>\n",
       "      <td>0.274686</td>\n",
       "      <td>0.580855</td>\n",
       "      <td>0.573835</td>\n",
       "      <td>0.573529</td>\n",
       "      <td>0.576073</td>\n",
       "      <td>0.003383</td>\n",
       "      <td>13</td>\n",
       "      <td>0.000015</td>\n",
       "    </tr>\n",
       "    <tr>\n",
       "      <th>2</th>\n",
       "      <td>{'bernoullinb__alpha': 3.72737250839037e-05}</td>\n",
       "      <td>7.826739</td>\n",
       "      <td>3.117609</td>\n",
       "      <td>2.715317</td>\n",
       "      <td>0.021152</td>\n",
       "      <td>0.572259</td>\n",
       "      <td>0.569801</td>\n",
       "      <td>0.565867</td>\n",
       "      <td>0.569309</td>\n",
       "      <td>0.002633</td>\n",
       "      <td>15</td>\n",
       "      <td>0.000037</td>\n",
       "    </tr>\n",
       "    <tr>\n",
       "      <th>3</th>\n",
       "      <td>{'bernoullinb__alpha': 1.2287457703723991e-05}</td>\n",
       "      <td>7.811836</td>\n",
       "      <td>3.125555</td>\n",
       "      <td>2.610703</td>\n",
       "      <td>0.113459</td>\n",
       "      <td>0.581572</td>\n",
       "      <td>0.575284</td>\n",
       "      <td>0.574398</td>\n",
       "      <td>0.577085</td>\n",
       "      <td>0.003193</td>\n",
       "      <td>12</td>\n",
       "      <td>0.000012</td>\n",
       "    </tr>\n",
       "    <tr>\n",
       "      <th>4</th>\n",
       "      <td>{'bernoullinb__alpha': 1.1131314049196952e-08}</td>\n",
       "      <td>7.819781</td>\n",
       "      <td>3.158142</td>\n",
       "      <td>2.771910</td>\n",
       "      <td>0.044851</td>\n",
       "      <td>0.599516</td>\n",
       "      <td>0.600477</td>\n",
       "      <td>0.591230</td>\n",
       "      <td>0.597074</td>\n",
       "      <td>0.004151</td>\n",
       "      <td>6</td>\n",
       "      <td>0.0</td>\n",
       "    </tr>\n",
       "  </tbody>\n",
       "</table>\n",
       "</div>"
      ],
      "text/plain": [
       "                                           params  mean_fit_time  \\\n",
       "0   {'bernoullinb__alpha': 3.864766197836774e-08}       7.796743   \n",
       "1  {'bernoullinb__alpha': 1.4834412205782722e-05}       7.795609   \n",
       "2    {'bernoullinb__alpha': 3.72737250839037e-05}       7.826739   \n",
       "3  {'bernoullinb__alpha': 1.2287457703723991e-05}       7.811836   \n",
       "4  {'bernoullinb__alpha': 1.1131314049196952e-08}       7.819781   \n",
       "\n",
       "   std_fit_time  mean_score_time  std_score_time  split0_test_score  \\\n",
       "0      3.134331         2.493973        0.280724           0.596074   \n",
       "1      3.139391         2.482212        0.274686           0.580855   \n",
       "2      3.117609         2.715317        0.021152           0.572259   \n",
       "3      3.125555         2.610703        0.113459           0.581572   \n",
       "4      3.158142         2.771910        0.044851           0.599516   \n",
       "\n",
       "   split1_test_score  split2_test_score  mean_test_score  std_test_score  \\\n",
       "0           0.597950           0.587952         0.593992        0.004339   \n",
       "1           0.573835           0.573529         0.576073        0.003383   \n",
       "2           0.569801           0.565867         0.569309        0.002633   \n",
       "3           0.575284           0.574398         0.577085        0.003193   \n",
       "4           0.600477           0.591230         0.597074        0.004151   \n",
       "\n",
       "   rank_test_score param_bernoullinb__alpha  \n",
       "0                7                      0.0  \n",
       "1               13                 0.000015  \n",
       "2               15                 0.000037  \n",
       "3               12                 0.000012  \n",
       "4                6                      0.0  "
      ]
     },
     "execution_count": 46,
     "metadata": {},
     "output_type": "execute_result"
    }
   ],
   "source": [
    "cv_results.head()"
   ]
  },
  {
   "cell_type": "code",
   "execution_count": 47,
   "id": "separate-antique",
   "metadata": {},
   "outputs": [
    {
     "data": {
      "text/plain": [
       "<AxesSubplot:xlabel='param_bernoullinb__alpha', ylabel='mean_test_score'>"
      ]
     },
     "execution_count": 47,
     "metadata": {},
     "output_type": "execute_result"
    },
    {
     "data": {
      "image/png": "[encoded data removed]",
      "text/plain": [
       "<Figure size 432x288 with 1 Axes>"
      ]
     },
     "metadata": {
      "needs_background": "light"
     },
     "output_type": "display_data"
    }
   ],
   "source": [
    "cv_results.plot(\n",
    "    \"param_bernoullinb__alpha\", \"mean_test_score\", kind=\"scatter\", logx=True\n",
    ")"
   ]
  },
  {
   "cell_type": "markdown",
   "id": "generous-geology",
   "metadata": {},
   "source": [
    "We can see that as alpha gets bigger, the results get worse.  So for this, we want to aim for a very small alpha.\n",
    "\n",
    "Now, we exclude words that are very frequent and infrequent.  We will experiment with the threshold levels."
   ]
  },
  {
   "cell_type": "code",
   "execution_count": 48,
   "id": "black-massachusetts",
   "metadata": {},
   "outputs": [
    {
     "name": "stdout",
     "output_type": "stream",
     "text": [
      "CPU times: user 20.5 s, sys: 2.63 s, total: 23.1 s\n",
      "Wall time: 2min 4s\n"
     ]
    },
    {
     "data": {
      "text/plain": [
       "RandomizedSearchCV(estimator=Pipeline(steps=[('countvectorizer',\n",
       "                                              CountVectorizer(analyzer=<cyfunction identity at 0x7f05f7cde1e0>)),\n",
       "                                             ('bernoullinb', BernoulliNB())]),\n",
       "                   n_iter=25,\n",
       "                   param_distributions={'bernoullinb__alpha': <scipy.stats._distn_infrastructure.rv_frozen object at 0x7f05b55d4a60>,\n",
       "                                        'countvectorizer__min_df': <scipy.stats._distn_infrastructure.rv_frozen object at 0x7f04ef306760>},\n",
       "                   scoring='f1')"
      ]
     },
     "execution_count": 48,
     "metadata": {},
     "output_type": "execute_result"
    }
   ],
   "source": [
    "%%time\n",
    "\n",
    "search = RandomizedSearchCV(\n",
    "    bnb,\n",
    "    {\n",
    "        \"countvectorizer__min_df\": randint(1, 5),  # we will try 1, 2, 3, 4\n",
    "        \"bernoullinb__alpha\": loguniform(1e-10, 1e-5),\n",
    "    },\n",
    "    n_iter=25,\n",
    "    scoring=\"f1\",\n",
    ")\n",
    "search.fit(df[\"tokens\"], df[\"pol\"])"
   ]
  },
  {
   "cell_type": "code",
   "execution_count": 49,
   "id": "satellite-emphasis",
   "metadata": {},
   "outputs": [
    {
     "data": {
      "text/plain": [
       "({'bernoullinb__alpha': 6.386373046701459e-09, 'countvectorizer__min_df': 1},\n",
       " 0.5979303258817769)"
      ]
     },
     "execution_count": 49,
     "metadata": {},
     "output_type": "execute_result"
    }
   ],
   "source": [
    "search.best_params_, search.best_score_"
   ]
  },
  {
   "cell_type": "code",
   "execution_count": 50,
   "id": "charming-knock",
   "metadata": {},
   "outputs": [],
   "source": [
    "cv_results = pd.DataFrame(search.cv_results_)"
   ]
  },
  {
   "cell_type": "code",
   "execution_count": 51,
   "id": "technical-spelling",
   "metadata": {},
   "outputs": [
    {
     "data": {
      "text/plain": [
       "<AxesSubplot:xlabel='param_countvectorizer__min_df', ylabel='mean_test_score'>"
      ]
     },
     "execution_count": 51,
     "metadata": {},
     "output_type": "execute_result"
    },
    {
     "data": {
      "image/png": "[encoded data removed]",
      "text/plain": [
       "<Figure size 432x288 with 1 Axes>"
      ]
     },
     "metadata": {
      "needs_background": "light"
     },
     "output_type": "display_data"
    }
   ],
   "source": [
    "cv_results.plot(\"param_countvectorizer__min_df\", \"mean_test_score\", kind=\"scatter\")"
   ]
  },
  {
   "cell_type": "markdown",
   "id": "exposed-nicaragua",
   "metadata": {},
   "source": [
    "Values of min_df vs score... as min_df gets higher the scores go down."
   ]
  },
  {
   "cell_type": "code",
   "execution_count": 52,
   "id": "insured-sunset",
   "metadata": {},
   "outputs": [
    {
     "data": {
      "text/plain": [
       "<AxesSubplot:xlabel='param_bernoullinb__alpha', ylabel='mean_test_score'>"
      ]
     },
     "execution_count": 52,
     "metadata": {},
     "output_type": "execute_result"
    },
    {
     "data": {
      "image/png": "[encoded data removed]",
      "text/plain": [
       "<Figure size 432x288 with 1 Axes>"
      ]
     },
     "metadata": {
      "needs_background": "light"
     },
     "output_type": "display_data"
    }
   ],
   "source": [
    "cv_results.plot(\n",
    "    \"param_bernoullinb__alpha\", \"mean_test_score\", kind=\"scatter\", logx=True\n",
    ")"
   ]
  },
  {
   "cell_type": "markdown",
   "id": "bacterial-tournament",
   "metadata": {},
   "source": [
    "Same... as alpha gets small, scores go down."
   ]
  },
  {
   "cell_type": "code",
   "execution_count": 53,
   "id": "norwegian-population",
   "metadata": {},
   "outputs": [
    {
     "data": {
      "text/plain": [
       "<AxesSubplot:xlabel='param_bernoullinb__alpha', ylabel='mean_test_score'>"
      ]
     },
     "execution_count": 53,
     "metadata": {},
     "output_type": "execute_result"
    },
    {
     "data": {
      "image/png": "[encoded data removed]",
      "text/plain": [
       "<Figure size 432x288 with 2 Axes>"
      ]
     },
     "metadata": {
      "needs_background": "light"
     },
     "output_type": "display_data"
    }
   ],
   "source": [
    "cv_results.plot(\n",
    "    \"param_bernoullinb__alpha\",\n",
    "    \"mean_test_score\",\n",
    "    kind=\"scatter\",\n",
    "    logx=True,\n",
    "    c=\"param_countvectorizer__min_df\",\n",
    "    colormap=\"Set1\",\n",
    ")"
   ]
  },
  {
   "cell_type": "markdown",
   "id": "every-bible",
   "metadata": {},
   "source": [
    "Given the graph, we want alpha as small as possible, and min_df = 1.  Let's find max_df which are the terms that are the most frequent.  We filter out the high frequency terms, but KEEP the low frequency terms."
   ]
  },
  {
   "cell_type": "code",
   "execution_count": 54,
   "id": "casual-basic",
   "metadata": {},
   "outputs": [
    {
     "name": "stdout",
     "output_type": "stream",
     "text": [
      "CPU times: user 20.6 s, sys: 2.7 s, total: 23.3 s\n",
      "Wall time: 3min 45s\n"
     ]
    },
    {
     "data": {
      "text/plain": [
       "RandomizedSearchCV(estimator=Pipeline(steps=[('countvectorizer',\n",
       "                                              CountVectorizer(analyzer=<cyfunction identity at 0x7f05f7cde1e0>)),\n",
       "                                             ('bernoullinb', BernoulliNB())]),\n",
       "                   n_iter=25,\n",
       "                   param_distributions={'bernoullinb__alpha': <scipy.stats._distn_infrastructure.rv_frozen object at 0x7f04ee576b50>,\n",
       "                                        'countvectorizer__max_df': <scipy.stats._distn_infrastructure.rv_frozen object at 0x7f04f7151dc0>,\n",
       "                                        'countvectorizer__min_df': [1]},\n",
       "                   scoring='f1')"
      ]
     },
     "execution_count": 54,
     "metadata": {},
     "output_type": "execute_result"
    }
   ],
   "source": [
    "%%time\n",
    "\n",
    "search = RandomizedSearchCV(\n",
    "    bnb,\n",
    "    {\n",
    "        \"countvectorizer__min_df\": [1],\n",
    "        \"countvectorizer__max_df\": uniform(0.5, 0.5), # probably between 0.5 and 1, so we try 0.5 and evaluate. This will give random numbers between 0.5 and 1.\n",
    "        \"bernoullinb__alpha\": loguniform(1e-10, 1e-5),\n",
    "    },\n",
    "    n_iter=25,\n",
    "    scoring=\"f1\",\n",
    ")\n",
    "search.fit(df[\"tokens\"], df[\"pol\"])"
   ]
  },
  {
   "cell_type": "code",
   "execution_count": 55,
   "id": "massive-giving",
   "metadata": {},
   "outputs": [
    {
     "data": {
      "text/plain": [
       "({'bernoullinb__alpha': 2.1323261664554503e-09,\n",
       "  'countvectorizer__max_df': 0.7829031597292002,\n",
       "  'countvectorizer__min_df': 1},\n",
       " 0.5992395759968318)"
      ]
     },
     "execution_count": 55,
     "metadata": {},
     "output_type": "execute_result"
    }
   ],
   "source": [
    "search.best_params_, search.best_score_"
   ]
  },
  {
   "cell_type": "code",
   "execution_count": 56,
   "id": "internal-observation",
   "metadata": {},
   "outputs": [
    {
     "data": {
      "text/plain": [
       "<AxesSubplot:xlabel='param_countvectorizer__max_df', ylabel='mean_test_score'>"
      ]
     },
     "execution_count": 56,
     "metadata": {},
     "output_type": "execute_result"
    },
    {
     "data": {
      "image/png": "[encoded data removed]",
      "text/plain": [
       "<Figure size 432x288 with 1 Axes>"
      ]
     },
     "metadata": {
      "needs_background": "light"
     },
     "output_type": "display_data"
    }
   ],
   "source": [
    "cv_results = pd.DataFrame(search.cv_results_)\n",
    "cv_results.plot(\"param_countvectorizer__max_df\", \"mean_test_score\", kind=\"scatter\")"
   ]
  },
  {
   "cell_type": "markdown",
   "id": "blocked-colonial",
   "metadata": {},
   "source": [
    "---\n",
    "\n",
    "### Evaluate final model"
   ]
  },
  {
   "cell_type": "code",
   "execution_count": 57,
   "id": "loaded-legislature",
   "metadata": {},
   "outputs": [
    {
     "data": {
      "text/plain": [
       "Pipeline(steps=[('countvectorizer',\n",
       "                 CountVectorizer(analyzer=<cyfunction identity at 0x7f05f7cde1e0>,\n",
       "                                 max_df=0.78)),\n",
       "                ('bernoullinb', BernoulliNB(alpha=1e-10))])"
      ]
     },
     "execution_count": 57,
     "metadata": {},
     "output_type": "execute_result"
    }
   ],
   "source": [
    "bnb.set_params(\n",
    "    bernoullinb__alpha=1e-10, countvectorizer__min_df=1, countvectorizer__max_df=0.78\n",
    ")"
   ]
  },
  {
   "cell_type": "code",
   "execution_count": 58,
   "id": "classical-occurrence",
   "metadata": {},
   "outputs": [
    {
     "name": "stdout",
     "output_type": "stream",
     "text": [
      "              precision    recall  f1-score   support\n",
      "\n",
      "       False       0.98      0.96      0.97     56243\n",
      "        True       0.54      0.68      0.60      4266\n",
      "\n",
      "    accuracy                           0.94     60509\n",
      "   macro avg       0.76      0.82      0.78     60509\n",
      "weighted avg       0.94      0.94      0.94     60509\n",
      "\n"
     ]
    }
   ],
   "source": [
    "predicted = cross_val_predict(bnb, df[\"tokens\"], df[\"pol\"], cv=cv, n_jobs=-1)\n",
    "print(classification_report(df[\"pol\"], predicted))"
   ]
  },
  {
   "cell_type": "code",
   "execution_count": null,
   "id": "violent-lebanon",
   "metadata": {},
   "outputs": [],
   "source": []
  }
 ],
 "metadata": {
  "kernelspec": {
   "display_name": "Python 3",
   "language": "python",
   "name": "python3"
  },
  "language_info": {
   "codemirror_mode": {
    "name": "ipython",
    "version": 3
   },
   "file_extension": ".py",
   "mimetype": "text/x-python",
   "name": "python",
   "nbconvert_exporter": "python",
   "pygments_lexer": "ipython3",
   "version": "3.8.6"
  }
 },
 "nbformat": 4,
 "nbformat_minor": 5
}
