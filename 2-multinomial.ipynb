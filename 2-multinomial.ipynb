{
 "cells": [
  {
   "cell_type": "markdown",
   "id": "focused-eagle",
   "metadata": {},
   "source": [
    "# LAB 5: Text classification with Naive Bayes\n",
    "\n",
    "## Part 2: Multinomial NB Model\n",
    "\n",
    "Objectives:\n",
    "\n",
    "* Train and evaluate Naive Bayes text classifiers\n",
    "* Cross-validation\n",
    "* Hyperparameter search"
   ]
  },
  {
   "cell_type": "code",
   "execution_count": 1,
   "id": "tested-andrew",
   "metadata": {},
   "outputs": [],
   "source": [
    "import numpy as np\n",
    "import pandas as pd\n",
    "from cytoolz import *\n",
    "from tqdm.auto import tqdm\n",
    "\n",
    "tqdm.pandas()"
   ]
  },
  {
   "cell_type": "markdown",
   "id": "framed-hammer",
   "metadata": {},
   "source": [
    "### Load and preprocess data"
   ]
  },
  {
   "cell_type": "code",
   "execution_count": 2,
   "id": "planned-negative",
   "metadata": {},
   "outputs": [],
   "source": [
    "df = pd.read_parquet(\n",
    "    \"s3://ling583/rcv1-politics.parquet\", storage_options={\"anon\": True}\n",
    ")"
   ]
  },
  {
   "cell_type": "code",
   "execution_count": 3,
   "id": "incident-cricket",
   "metadata": {},
   "outputs": [],
   "source": [
    "import spacy\n",
    "\n",
    "nlp = spacy.load(\n",
    "    \"en_core_web_sm\",\n",
    "    exclude=[\"tagger\", \"parser\", \"ner\", \"lemmatizer\", \"attribute_ruler\"],\n",
    ")"
   ]
  },
  {
   "cell_type": "code",
   "execution_count": 4,
   "id": "civic-quest",
   "metadata": {},
   "outputs": [],
   "source": [
    "def tokenize(text):\n",
    "    doc = nlp.tokenizer(text)\n",
    "    return [t.norm_ for t in doc if t.is_alpha]"
   ]
  },
  {
   "cell_type": "code",
   "execution_count": 5,
   "id": "adult-thousand",
   "metadata": {},
   "outputs": [
    {
     "data": {
      "application/vnd.jupyter.widget-view+json": {
       "model_id": "a92e679d18be4e98875270012cb3b7b1",
       "version_major": 2,
       "version_minor": 0
      },
      "text/plain": [
       "  0%|          | 0/60509 [00:00<?, ?it/s]"
      ]
     },
     "metadata": {},
     "output_type": "display_data"
    }
   ],
   "source": [
    "df[\"tokens\"] = df[\"text\"].progress_apply(tokenize)"
   ]
  },
  {
   "cell_type": "markdown",
   "id": "little-floating",
   "metadata": {},
   "source": [
    "----\n",
    "\n",
    "### Multinomial Naive Bayes"
   ]
  },
  {
   "cell_type": "code",
   "execution_count": 6,
   "id": "crucial-grammar",
   "metadata": {},
   "outputs": [],
   "source": [
    "from sklearn.feature_extraction.text import CountVectorizer\n",
    "from sklearn.naive_bayes import MultinomialNB\n",
    "from sklearn.pipeline import make_pipeline\n",
    "from sklearn.metrics import classification_report, f1_score\n",
    "from sklearn.model_selection import StratifiedKFold, cross_val_predict, cross_val_score"
   ]
  },
  {
   "cell_type": "code",
   "execution_count": 7,
   "id": "static-printer",
   "metadata": {},
   "outputs": [],
   "source": [
    "cv = StratifiedKFold(n_splits=5, shuffle=True, random_state=5432)"
   ]
  },
  {
   "cell_type": "markdown",
   "id": "rental-sweden",
   "metadata": {},
   "source": [
    "Set up a pipeline: first convert tokenized text into feature vectors, then apply naive Bayes classifier"
   ]
  },
  {
   "cell_type": "code",
   "execution_count": 8,
   "id": "light-premium",
   "metadata": {},
   "outputs": [],
   "source": [
    "mnb = make_pipeline(CountVectorizer(analyzer=identity), MultinomialNB())"
   ]
  },
  {
   "cell_type": "code",
   "execution_count": 9,
   "id": "instant-playlist",
   "metadata": {},
   "outputs": [
    {
     "name": "stdout",
     "output_type": "stream",
     "text": [
      "              precision    recall  f1-score   support\n",
      "\n",
      "       False       0.99      0.90      0.95     56243\n",
      "        True       0.41      0.92      0.57      4266\n",
      "\n",
      "    accuracy                           0.90     60509\n",
      "   macro avg       0.70      0.91      0.76     60509\n",
      "weighted avg       0.95      0.90      0.92     60509\n",
      "\n"
     ]
    }
   ],
   "source": [
    "predicted = cross_val_predict(mnb, df[\"tokens\"], df[\"pol\"], cv=cv, n_jobs=-1)\n",
    "print(classification_report(df[\"pol\"], predicted))"
   ]
  },
  {
   "cell_type": "markdown",
   "id": "everyday-sending",
   "metadata": {},
   "source": [
    "---\n",
    "\n",
    "### Hyperparameter search"
   ]
  },
  {
   "cell_type": "code",
   "execution_count": 10,
   "id": "romance-wayne",
   "metadata": {},
   "outputs": [
    {
     "data": {
      "text/html": [
       "<table style=\"border: 2px solid white;\">\n",
       "<tr>\n",
       "<td style=\"vertical-align: top; border: 0px solid white\">\n",
       "<h3 style=\"text-align: left;\">Client</h3>\n",
       "<ul style=\"text-align: left; list-style: none; margin: 0; padding: 0;\">\n",
       "  <li><b>Scheduler: </b>tcp://127.0.0.1:38985</li>\n",
       "  <li><b>Dashboard: </b><a href='http://127.0.0.1:38309/status' target='_blank'>http://127.0.0.1:38309/status</a></li>\n",
       "</ul>\n",
       "</td>\n",
       "<td style=\"vertical-align: top; border: 0px solid white\">\n",
       "<h3 style=\"text-align: left;\">Cluster</h3>\n",
       "<ul style=\"text-align: left; list-style:none; margin: 0; padding: 0;\">\n",
       "  <li><b>Workers: </b>4</li>\n",
       "  <li><b>Cores: </b>4</li>\n",
       "  <li><b>Memory: </b>16.67 GB</li>\n",
       "</ul>\n",
       "</td>\n",
       "</tr>\n",
       "</table>"
      ],
      "text/plain": [
       "<Client: 'tcp://127.0.0.1:38985' processes=4 threads=4, memory=16.67 GB>"
      ]
     },
     "execution_count": 10,
     "metadata": {},
     "output_type": "execute_result"
    }
   ],
   "source": [
    "from dask.distributed import Client\n",
    "\n",
    "client = Client(\"tcp://127.0.0.1:38985\")\n",
    "client"
   ]
  },
  {
   "cell_type": "code",
   "execution_count": 11,
   "id": "united-cornwall",
   "metadata": {},
   "outputs": [],
   "source": [
    "from dask_ml.model_selection import RandomizedSearchCV\n",
    "from scipy.stats.distributions import loguniform, randint, uniform"
   ]
  },
  {
   "cell_type": "code",
   "execution_count": 12,
   "id": "fitted-metallic",
   "metadata": {},
   "outputs": [],
   "source": [
    "# Use this to avoid all the warnings\n",
    "from warnings import simplefilter\n",
    "simplefilter(action=\"ignore\", category=FutureWarning)"
   ]
  },
  {
   "cell_type": "code",
   "execution_count": 13,
   "id": "worth-intelligence",
   "metadata": {},
   "outputs": [],
   "source": [
    "mnb = make_pipeline(CountVectorizer(analyzer=identity), MultinomialNB())"
   ]
  },
  {
   "cell_type": "markdown",
   "id": "frequent-sellers",
   "metadata": {},
   "source": [
    "Setup a search to try out a classfier for lots of different parameter values: alpha parameter and optimize f1 score"
   ]
  },
  {
   "cell_type": "code",
   "execution_count": 14,
   "id": "purple-hometown",
   "metadata": {},
   "outputs": [
    {
     "name": "stdout",
     "output_type": "stream",
     "text": [
      "CPU times: user 17.6 s, sys: 2.08 s, total: 19.6 s\n",
      "Wall time: 2min 2s\n"
     ]
    },
    {
     "data": {
      "text/plain": [
       "RandomizedSearchCV(estimator=Pipeline(steps=[('countvectorizer',\n",
       "                                              CountVectorizer(analyzer=<cyfunction identity at 0x7f02b69c02b0>)),\n",
       "                                             ('multinomialnb',\n",
       "                                              MultinomialNB())]),\n",
       "                   n_iter=25,\n",
       "                   param_distributions={'multinomialnb__alpha': <scipy.stats._distn_infrastructure.rv_frozen object at 0x7f01d7ec9b80>},\n",
       "                   scoring='f1')"
      ]
     },
     "execution_count": 14,
     "metadata": {},
     "output_type": "execute_result"
    }
   ],
   "source": [
    "%%time\n",
    "\n",
    "search = RandomizedSearchCV(\n",
    "    mnb, {\"multinomialnb__alpha\": loguniform(1e-10, 10.0)}, n_iter=25, scoring=\"f1\"\n",
    ")\n",
    "search.fit(df[\"tokens\"], df[\"pol\"])  #tokenized data as input, and politics as the labels"
   ]
  },
  {
   "cell_type": "code",
   "execution_count": 15,
   "id": "sublime-carter",
   "metadata": {},
   "outputs": [
    {
     "data": {
      "text/plain": [
       "{'multinomialnb__alpha': 5.187825079211415}"
      ]
     },
     "execution_count": 15,
     "metadata": {},
     "output_type": "execute_result"
    }
   ],
   "source": [
    "search.best_params_"
   ]
  },
  {
   "cell_type": "code",
   "execution_count": 16,
   "id": "great-limit",
   "metadata": {},
   "outputs": [
    {
     "data": {
      "text/plain": [
       "0.6667223326366691"
      ]
     },
     "execution_count": 16,
     "metadata": {},
     "output_type": "execute_result"
    }
   ],
   "source": [
    "search.best_score_"
   ]
  },
  {
   "cell_type": "code",
   "execution_count": 17,
   "id": "everyday-actress",
   "metadata": {},
   "outputs": [],
   "source": [
    "cv_results = pd.DataFrame(search.cv_results_)"
   ]
  },
  {
   "cell_type": "code",
   "execution_count": 18,
   "id": "partial-wheel",
   "metadata": {},
   "outputs": [
    {
     "data": {
      "text/html": [
       "<div>\n",
       "<style scoped>\n",
       "    .dataframe tbody tr th:only-of-type {\n",
       "        vertical-align: middle;\n",
       "    }\n",
       "\n",
       "    .dataframe tbody tr th {\n",
       "        vertical-align: top;\n",
       "    }\n",
       "\n",
       "    .dataframe thead th {\n",
       "        text-align: right;\n",
       "    }\n",
       "</style>\n",
       "<table border=\"1\" class=\"dataframe\">\n",
       "  <thead>\n",
       "    <tr style=\"text-align: right;\">\n",
       "      <th></th>\n",
       "      <th>params</th>\n",
       "      <th>mean_fit_time</th>\n",
       "      <th>std_fit_time</th>\n",
       "      <th>mean_score_time</th>\n",
       "      <th>std_score_time</th>\n",
       "      <th>split0_test_score</th>\n",
       "      <th>split1_test_score</th>\n",
       "      <th>split2_test_score</th>\n",
       "      <th>mean_test_score</th>\n",
       "      <th>std_test_score</th>\n",
       "      <th>rank_test_score</th>\n",
       "      <th>param_multinomialnb__alpha</th>\n",
       "    </tr>\n",
       "  </thead>\n",
       "  <tbody>\n",
       "    <tr>\n",
       "      <th>0</th>\n",
       "      <td>{'multinomialnb__alpha': 1.1893829394190624e-08}</td>\n",
       "      <td>9.354947</td>\n",
       "      <td>2.847347</td>\n",
       "      <td>3.558992</td>\n",
       "      <td>0.327630</td>\n",
       "      <td>0.648680</td>\n",
       "      <td>0.648571</td>\n",
       "      <td>0.637194</td>\n",
       "      <td>0.644815</td>\n",
       "      <td>0.005389</td>\n",
       "      <td>4</td>\n",
       "      <td>0.0</td>\n",
       "    </tr>\n",
       "    <tr>\n",
       "      <th>1</th>\n",
       "      <td>{'multinomialnb__alpha': 0.00013099023841028196}</td>\n",
       "      <td>9.346151</td>\n",
       "      <td>2.826442</td>\n",
       "      <td>3.524555</td>\n",
       "      <td>0.227285</td>\n",
       "      <td>0.634159</td>\n",
       "      <td>0.626761</td>\n",
       "      <td>0.627066</td>\n",
       "      <td>0.629328</td>\n",
       "      <td>0.003418</td>\n",
       "      <td>18</td>\n",
       "      <td>0.000131</td>\n",
       "    </tr>\n",
       "    <tr>\n",
       "      <th>2</th>\n",
       "      <td>{'multinomialnb__alpha': 0.0005009272701939835}</td>\n",
       "      <td>9.373502</td>\n",
       "      <td>2.777996</td>\n",
       "      <td>3.519175</td>\n",
       "      <td>0.088264</td>\n",
       "      <td>0.627432</td>\n",
       "      <td>0.619421</td>\n",
       "      <td>0.622623</td>\n",
       "      <td>0.623159</td>\n",
       "      <td>0.003292</td>\n",
       "      <td>20</td>\n",
       "      <td>0.000501</td>\n",
       "    </tr>\n",
       "    <tr>\n",
       "      <th>3</th>\n",
       "      <td>{'multinomialnb__alpha': 2.6621014522772623e-06}</td>\n",
       "      <td>9.331266</td>\n",
       "      <td>2.803180</td>\n",
       "      <td>3.491973</td>\n",
       "      <td>0.135165</td>\n",
       "      <td>0.643516</td>\n",
       "      <td>0.640407</td>\n",
       "      <td>0.634335</td>\n",
       "      <td>0.639419</td>\n",
       "      <td>0.003813</td>\n",
       "      <td>8</td>\n",
       "      <td>0.000003</td>\n",
       "    </tr>\n",
       "    <tr>\n",
       "      <th>4</th>\n",
       "      <td>{'multinomialnb__alpha': 0.06792809173793204}</td>\n",
       "      <td>9.382311</td>\n",
       "      <td>2.818045</td>\n",
       "      <td>3.006198</td>\n",
       "      <td>0.379787</td>\n",
       "      <td>0.581238</td>\n",
       "      <td>0.580589</td>\n",
       "      <td>0.575758</td>\n",
       "      <td>0.579195</td>\n",
       "      <td>0.002445</td>\n",
       "      <td>24</td>\n",
       "      <td>0.067928</td>\n",
       "    </tr>\n",
       "  </tbody>\n",
       "</table>\n",
       "</div>"
      ],
      "text/plain": [
       "                                             params  mean_fit_time  \\\n",
       "0  {'multinomialnb__alpha': 1.1893829394190624e-08}       9.354947   \n",
       "1  {'multinomialnb__alpha': 0.00013099023841028196}       9.346151   \n",
       "2   {'multinomialnb__alpha': 0.0005009272701939835}       9.373502   \n",
       "3  {'multinomialnb__alpha': 2.6621014522772623e-06}       9.331266   \n",
       "4     {'multinomialnb__alpha': 0.06792809173793204}       9.382311   \n",
       "\n",
       "   std_fit_time  mean_score_time  std_score_time  split0_test_score  \\\n",
       "0      2.847347         3.558992        0.327630           0.648680   \n",
       "1      2.826442         3.524555        0.227285           0.634159   \n",
       "2      2.777996         3.519175        0.088264           0.627432   \n",
       "3      2.803180         3.491973        0.135165           0.643516   \n",
       "4      2.818045         3.006198        0.379787           0.581238   \n",
       "\n",
       "   split1_test_score  split2_test_score  mean_test_score  std_test_score  \\\n",
       "0           0.648571           0.637194         0.644815        0.005389   \n",
       "1           0.626761           0.627066         0.629328        0.003418   \n",
       "2           0.619421           0.622623         0.623159        0.003292   \n",
       "3           0.640407           0.634335         0.639419        0.003813   \n",
       "4           0.580589           0.575758         0.579195        0.002445   \n",
       "\n",
       "   rank_test_score param_multinomialnb__alpha  \n",
       "0                4                        0.0  \n",
       "1               18                   0.000131  \n",
       "2               20                   0.000501  \n",
       "3                8                   0.000003  \n",
       "4               24                   0.067928  "
      ]
     },
     "execution_count": 18,
     "metadata": {},
     "output_type": "execute_result"
    }
   ],
   "source": [
    "cv_results.head()"
   ]
  },
  {
   "cell_type": "code",
   "execution_count": 19,
   "id": "russian-spokesman",
   "metadata": {},
   "outputs": [
    {
     "data": {
      "text/plain": [
       "<AxesSubplot:xlabel='param_multinomialnb__alpha', ylabel='mean_test_score'>"
      ]
     },
     "execution_count": 19,
     "metadata": {},
     "output_type": "execute_result"
    },
    {
     "data": {
      "image/png": "[encoded data removed]",
      "text/plain": [
       "<Figure size 432x288 with 1 Axes>"
      ]
     },
     "metadata": {
      "needs_background": "light"
     },
     "output_type": "display_data"
    }
   ],
   "source": [
    "cv_results.plot(\n",
    "    \"param_multinomialnb__alpha\", \"mean_test_score\", kind=\"scatter\", logx=True\n",
    ")"
   ]
  },
  {
   "cell_type": "markdown",
   "id": "governmental-reward",
   "metadata": {},
   "source": [
    "We can see that as alpha gets bigger, the results get worse.  However, we do have 1 value with a high mean test score near value 10.  First, we will explore values between 1e-9 and 1e-7 before looking at value 10.\n",
    "\n",
    "Now, we exclude words that are very frequent and infrequent.  We will experiment with the threshold levels."
   ]
  },
  {
   "cell_type": "code",
   "execution_count": 20,
   "id": "adaptive-seventh",
   "metadata": {},
   "outputs": [
    {
     "name": "stdout",
     "output_type": "stream",
     "text": [
      "CPU times: user 17.7 s, sys: 1.92 s, total: 19.6 s\n",
      "Wall time: 2min 22s\n"
     ]
    },
    {
     "data": {
      "text/plain": [
       "RandomizedSearchCV(estimator=Pipeline(steps=[('countvectorizer',\n",
       "                                              CountVectorizer(analyzer=<cyfunction identity at 0x7f02b69c02b0>)),\n",
       "                                             ('multinomialnb',\n",
       "                                              MultinomialNB())]),\n",
       "                   n_iter=25,\n",
       "                   param_distributions={'countvectorizer__min_df': <scipy.stats._distn_infrastructure.rv_frozen object at 0x7f01d58cc8e0>,\n",
       "                                        'multinomialnb__alpha': <scipy.stats._distn_infrastructure.rv_frozen object at 0x7f01d589ab20>},\n",
       "                   scoring='f1')"
      ]
     },
     "execution_count": 20,
     "metadata": {},
     "output_type": "execute_result"
    }
   ],
   "source": [
    "%%time\n",
    "\n",
    "search = RandomizedSearchCV(\n",
    "    mnb,\n",
    "    {\n",
    "        \"countvectorizer__min_df\": randint(1, 5),  # we will try 1, 2, 3, 4\n",
    "        \"multinomialnb__alpha\": loguniform(1e-9, 1e-7),\n",
    "    },\n",
    "    n_iter=25,\n",
    "    scoring=\"f1\",\n",
    ")\n",
    "search.fit(df[\"tokens\"], df[\"pol\"])"
   ]
  },
  {
   "cell_type": "code",
   "execution_count": 21,
   "id": "adult-middle",
   "metadata": {},
   "outputs": [
    {
     "data": {
      "text/plain": [
       "({'countvectorizer__min_df': 1, 'multinomialnb__alpha': 3.25831536320573e-08},\n",
       " 0.6446826423068446)"
      ]
     },
     "execution_count": 21,
     "metadata": {},
     "output_type": "execute_result"
    }
   ],
   "source": [
    "search.best_params_, search.best_score_"
   ]
  },
  {
   "cell_type": "code",
   "execution_count": 22,
   "id": "comparable-herald",
   "metadata": {},
   "outputs": [],
   "source": [
    "cv_results = pd.DataFrame(search.cv_results_)"
   ]
  },
  {
   "cell_type": "code",
   "execution_count": 23,
   "id": "outer-balance",
   "metadata": {},
   "outputs": [
    {
     "data": {
      "text/plain": [
       "<AxesSubplot:xlabel='param_countvectorizer__min_df', ylabel='mean_test_score'>"
      ]
     },
     "execution_count": 23,
     "metadata": {},
     "output_type": "execute_result"
    },
    {
     "data": {
      "image/png": "[encoded data removed]",
      "text/plain": [
       "<Figure size 432x288 with 1 Axes>"
      ]
     },
     "metadata": {
      "needs_background": "light"
     },
     "output_type": "display_data"
    }
   ],
   "source": [
    "cv_results.plot(\"param_countvectorizer__min_df\", \"mean_test_score\", kind=\"scatter\")"
   ]
  },
  {
   "cell_type": "markdown",
   "id": "mineral-questionnaire",
   "metadata": {},
   "source": [
    "Optimal min_df value is at 1.0"
   ]
  },
  {
   "cell_type": "code",
   "execution_count": 24,
   "id": "eight-shoulder",
   "metadata": {},
   "outputs": [
    {
     "data": {
      "text/plain": [
       "<AxesSubplot:xlabel='param_multinomialnb__alpha', ylabel='mean_test_score'>"
      ]
     },
     "execution_count": 24,
     "metadata": {},
     "output_type": "execute_result"
    },
    {
     "data": {
      "image/png": "[encoded data removed]",
      "text/plain": [
       "<Figure size 432x288 with 1 Axes>"
      ]
     },
     "metadata": {
      "needs_background": "light"
     },
     "output_type": "display_data"
    }
   ],
   "source": [
    "cv_results.plot(\n",
    "    \"param_multinomialnb__alpha\", \"mean_test_score\", kind=\"scatter\", logx=True\n",
    ")"
   ]
  },
  {
   "cell_type": "markdown",
   "id": "wicked-blood",
   "metadata": {},
   "source": [
    "Optimal alpha value is between 1e-8 and 1e-7"
   ]
  },
  {
   "cell_type": "markdown",
   "id": "different-fellow",
   "metadata": {},
   "source": [
    "cv_results.plot(\n",
    "    \"param_multinomialnb__alpha\",\n",
    "    \"mean_test_score\",\n",
    "    kind=\"scatter\",\n",
    "    logx=True,\n",
    "    c=\"param_countvectorizer__min_df\",\n",
    "    colormap=\"Set1\",\n",
    ")"
   ]
  },
  {
   "cell_type": "markdown",
   "id": "involved-viewer",
   "metadata": {},
   "source": [
    "Given the graph, we want alpha just under 1e-8 but greater than 1e-7, and min_df = 1.  Let's find max_df which are the terms that are the most frequent.  We filter out the high frequency terms, but KEEP the low frequency terms."
   ]
  },
  {
   "cell_type": "code",
   "execution_count": 26,
   "id": "modern-heavy",
   "metadata": {},
   "outputs": [
    {
     "name": "stdout",
     "output_type": "stream",
     "text": [
      "CPU times: user 17.9 s, sys: 2.01 s, total: 20 s\n",
      "Wall time: 4min 32s\n"
     ]
    },
    {
     "data": {
      "text/plain": [
       "RandomizedSearchCV(estimator=Pipeline(steps=[('countvectorizer',\n",
       "                                              CountVectorizer(analyzer=<cyfunction identity at 0x7f02b69c02b0>)),\n",
       "                                             ('multinomialnb',\n",
       "                                              MultinomialNB())]),\n",
       "                   n_iter=25,\n",
       "                   param_distributions={'countvectorizer__max_df': <scipy.stats._distn_infrastructure.rv_frozen object at 0x7f01d4af0b80>,\n",
       "                                        'countvectorizer__min_df': [1],\n",
       "                                        'multinomialnb__alpha': <scipy.stats._distn_infrastructure.rv_frozen object at 0x7f01d4af99d0>},\n",
       "                   scoring='f1')"
      ]
     },
     "execution_count": 26,
     "metadata": {},
     "output_type": "execute_result"
    }
   ],
   "source": [
    "%%time\n",
    "\n",
    "search = RandomizedSearchCV(\n",
    "    mnb,\n",
    "    {\n",
    "        \"countvectorizer__min_df\": [1],\n",
    "        \"countvectorizer__max_df\": uniform(0.5, 0.5), # probably between 0.5 and 1, so we try 0.5 and evaluate. This will give random numbers between 0.5 and 1.\n",
    "        \"multinomialnb__alpha\": loguniform(1e-8, 1e-7),\n",
    "    },\n",
    "    n_iter=25,\n",
    "    scoring=\"f1\",\n",
    ")\n",
    "search.fit(df[\"tokens\"], df[\"pol\"])"
   ]
  },
  {
   "cell_type": "code",
   "execution_count": 27,
   "id": "elegant-measurement",
   "metadata": {},
   "outputs": [
    {
     "data": {
      "text/plain": [
       "({'countvectorizer__max_df': 0.8291284078093901,\n",
       "  'countvectorizer__min_df': 1,\n",
       "  'multinomialnb__alpha': 1.7572019780112487e-08},\n",
       " 0.6454347855109706)"
      ]
     },
     "execution_count": 27,
     "metadata": {},
     "output_type": "execute_result"
    }
   ],
   "source": [
    "search.best_params_, search.best_score_"
   ]
  },
  {
   "cell_type": "code",
   "execution_count": 28,
   "id": "controversial-hierarchy",
   "metadata": {},
   "outputs": [
    {
     "data": {
      "text/plain": [
       "<AxesSubplot:xlabel='param_countvectorizer__max_df', ylabel='mean_test_score'>"
      ]
     },
     "execution_count": 28,
     "metadata": {},
     "output_type": "execute_result"
    },
    {
     "data": {
      "image/png": "[encoded data removed]",
      "text/plain": [
       "<Figure size 432x288 with 1 Axes>"
      ]
     },
     "metadata": {
      "needs_background": "light"
     },
     "output_type": "display_data"
    }
   ],
   "source": [
    "cv_results = pd.DataFrame(search.cv_results_)\n",
    "cv_results.plot(\"param_countvectorizer__max_df\", \"mean_test_score\", kind=\"scatter\")"
   ]
  },
  {
   "cell_type": "markdown",
   "id": "surprised-carbon",
   "metadata": {},
   "source": [
    "---\n",
    "\n",
    "### Evaluate final model"
   ]
  },
  {
   "cell_type": "code",
   "execution_count": 31,
   "id": "ancient-neighbor",
   "metadata": {},
   "outputs": [
    {
     "data": {
      "text/plain": [
       "Pipeline(steps=[('countvectorizer',\n",
       "                 CountVectorizer(analyzer=<cyfunction identity at 0x7f02b69c02b0>,\n",
       "                                 max_df=0.8291284078093901, min_df=2)),\n",
       "                ('multinomialnb', MultinomialNB(alpha=1.7572019780112487e-08))])"
      ]
     },
     "execution_count": 31,
     "metadata": {},
     "output_type": "execute_result"
    }
   ],
   "source": [
    "mnb.set_params(\n",
    "    multinomialnb__alpha=1.7572019780112487e-08, countvectorizer__min_df=2, countvectorizer__max_df=0.8291284078093901\n",
    ")"
   ]
  },
  {
   "cell_type": "code",
   "execution_count": 32,
   "id": "welcome-mozambique",
   "metadata": {},
   "outputs": [
    {
     "name": "stdout",
     "output_type": "stream",
     "text": [
      "              precision    recall  f1-score   support\n",
      "\n",
      "       False       0.99      0.94      0.96     56243\n",
      "        True       0.52      0.82      0.64      4266\n",
      "\n",
      "    accuracy                           0.93     60509\n",
      "   macro avg       0.75      0.88      0.80     60509\n",
      "weighted avg       0.95      0.93      0.94     60509\n",
      "\n"
     ]
    }
   ],
   "source": [
    "predicted = cross_val_predict(mnb, df[\"tokens\"], df[\"pol\"], cv=cv, n_jobs=-1)\n",
    "print(classification_report(df[\"pol\"], predicted))"
   ]
  },
  {
   "cell_type": "markdown",
   "id": "colonial-strike",
   "metadata": {},
   "source": [
    "For this model, F1 score is at 0.64 with precision and recall at values 0.52 and 0.82.  This is much better, but precision and recall are not as balanced as we would like.  We will now explore another model possibility with alpha at value 10 (as mentioned above).  For this, please refer to file:  3-multinomial.ipynb."
   ]
  },
  {
   "cell_type": "code",
   "execution_count": null,
   "id": "colonial-concept",
   "metadata": {},
   "outputs": [],
   "source": []
  }
 ],
 "metadata": {
  "kernelspec": {
   "display_name": "Python 3",
   "language": "python",
   "name": "python3"
  },
  "language_info": {
   "codemirror_mode": {
    "name": "ipython",
    "version": 3
   },
   "file_extension": ".py",
   "mimetype": "text/x-python",
   "name": "python",
   "nbconvert_exporter": "python",
   "pygments_lexer": "ipython3",
   "version": "3.8.6"
  }
 },
 "nbformat": 4,
 "nbformat_minor": 5
}
